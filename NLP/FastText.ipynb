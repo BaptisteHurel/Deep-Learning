{
  "nbformat": 4,
  "nbformat_minor": 0,
  "metadata": {
    "colab": {
      "name": "FastText.ipynb",
      "provenance": [],
      "collapsed_sections": []
    },
    "kernelspec": {
      "name": "python3",
      "display_name": "Python 3"
    },
    "language_info": {
      "name": "python"
    }
  },
  "cells": [
    {
      "cell_type": "markdown",
      "source": [
        "# FastText"
      ],
      "metadata": {
        "id": "1HwAxm6aGpnd"
      }
    },
    {
      "cell_type": "markdown",
      "source": [
        "## Cas Pratique - Utiliser la librairie fastText pour vectoriser un corpus"
      ],
      "metadata": {
        "id": "Y1WqWjynGDTX"
      }
    },
    {
      "cell_type": "markdown",
      "source": [
        "- 1. Se renseigner sur la librairie fasttext\n",
        "- 2. Aller sur colab et installer la librairie\n",
        "- 3. Charger et nettoyer rapidement le dataset labeled_data.csv\n",
        "(https://drive.google.com/drive/folders/1GCWcIvE3ZipWiV8567CswTNUaNzce3sT?u\n",
        "sp=sharing )\n",
        "- 4. Se renseigner sur la manière de labelliser les data avec fasttext\n",
        "- 5. Entrainer un modele supervisé de fastext avec les data ci-dessus\n",
        "- 6. Afficher les mots que le modèle a appris\n",
        "- 7. Donner la représentation vectorielle du mot 'guy' à l’aide du modèle que vous avez\n",
        "entraîné ci-dessus."
      ],
      "metadata": {
        "id": "lnKNSo2KGUw3"
      }
    }
  ]
}