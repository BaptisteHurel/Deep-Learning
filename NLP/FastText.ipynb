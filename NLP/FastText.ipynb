{
  "nbformat": 4,
  "nbformat_minor": 0,
  "metadata": {
    "colab": {
      "name": "FastText.ipynb",
      "provenance": [],
      "collapsed_sections": []
    },
    "kernelspec": {
      "name": "python3",
      "display_name": "Python 3"
    },
    "language_info": {
      "name": "python"
    }
  },
  "cells": [
    {
      "cell_type": "markdown",
      "source": [
        "# FastText"
      ],
      "metadata": {
        "id": "1HwAxm6aGpnd"
      }
    },
    {
      "cell_type": "markdown",
      "source": [
        "## Cas Pratique - Utiliser la librairie fastText pour vectoriser un corpus"
      ],
      "metadata": {
        "id": "Y1WqWjynGDTX"
      }
    },
    {
      "cell_type": "markdown",
      "source": [
        "- 1. Se renseigner sur la librairie fasttext\n",
        "- 2. Aller sur colab et installer la librairie\n",
        "- 3. Charger et nettoyer rapidement le dataset labeled_data.csv\n",
        "(https://drive.google.com/drive/folders/1GCWcIvE3ZipWiV8567CswTNUaNzce3sT?u\n",
        "sp=sharing )\n",
        "- 4. Se renseigner sur la manière de labelliser les data avec fasttext\n",
        "- 5. Entrainer un modele supervisé de fastext avec les data ci-dessus\n",
        "- 6. Afficher les mots que le modèle a appris\n",
        "- 7. Donner la représentation vectorielle du mot 'guy' à l’aide du modèle que vous avez\n",
        "entraîné ci-dessus."
      ],
      "metadata": {
        "id": "lnKNSo2KGUw3"
      }
    },
    {
      "cell_type": "markdown",
      "source": [
        "## Ressource\n",
        "- https://fasttext.cc/docs/en/supervised-tutorial.html\n",
        "- https://pandas.pydata.org/pandas-docs/stable/user_guide/dsintro.html\n",
        "- https://fasttext.cc/docs/en/options.html"
      ],
      "metadata": {
        "id": "5zyHukH4L6Nn"
      }
    },
    {
      "cell_type": "markdown",
      "source": [
        "### Question 1"
      ],
      "metadata": {
        "id": "uKriXIqmtgZO"
      }
    },
    {
      "cell_type": "markdown",
      "source": [
        "- fastText is a library for efficient learning of word representations and sentence classification.\n",
        "- Text classification is a core problem to many applications, like spam detection, sentiment analysis or smart replies. In this tutorial, we describe how to build a text classifier with the fastText tool.\n",
        "\n",
        "\n",
        "\n"
      ],
      "metadata": {
        "id": "ykqBheLBtxXj"
      }
    },
    {
      "cell_type": "markdown",
      "source": [
        "### Question 2"
      ],
      "metadata": {
        "id": "nslBqEeityOt"
      }
    },
    {
      "cell_type": "code",
      "source": [
        "!pip list | grep fast"
      ],
      "metadata": {
        "colab": {
          "base_uri": "https://localhost:8080/"
        },
        "id": "XlfnYxjEtRJh",
        "outputId": "cf533cd4-f115-4ce7-b226-e9245cf0548f"
      },
      "execution_count": 1,
      "outputs": [
        {
          "output_type": "stream",
          "name": "stdout",
          "text": [
            "fastai                        1.0.61\n",
            "fastdtw                       0.3.4\n",
            "fastprogress                  1.0.0\n",
            "fastrlock                     0.8\n"
          ]
        }
      ]
    },
    {
      "cell_type": "code",
      "source": [
        "pip install fasttext"
      ],
      "metadata": {
        "colab": {
          "base_uri": "https://localhost:8080/"
        },
        "id": "t4_fGg5G3l9p",
        "outputId": "bf4b6887-5abe-49a3-add3-7372c1f03054"
      },
      "execution_count": 6,
      "outputs": [
        {
          "output_type": "stream",
          "name": "stdout",
          "text": [
            "Collecting fasttext\n",
            "  Downloading fasttext-0.9.2.tar.gz (68 kB)\n",
            "\u001b[?25l\r\u001b[K     |████▊                           | 10 kB 15.4 MB/s eta 0:00:01\r\u001b[K     |█████████▌                      | 20 kB 19.6 MB/s eta 0:00:01\r\u001b[K     |██████████████▎                 | 30 kB 7.7 MB/s eta 0:00:01\r\u001b[K     |███████████████████             | 40 kB 6.1 MB/s eta 0:00:01\r\u001b[K     |███████████████████████▉        | 51 kB 5.2 MB/s eta 0:00:01\r\u001b[K     |████████████████████████████▋   | 61 kB 5.4 MB/s eta 0:00:01\r\u001b[K     |████████████████████████████████| 68 kB 3.0 MB/s \n",
            "\u001b[?25hCollecting pybind11>=2.2\n",
            "  Using cached pybind11-2.9.0-py2.py3-none-any.whl (210 kB)\n",
            "Requirement already satisfied: setuptools>=0.7.0 in /usr/local/lib/python3.7/dist-packages (from fasttext) (57.4.0)\n",
            "Requirement already satisfied: numpy in /usr/local/lib/python3.7/dist-packages (from fasttext) (1.19.5)\n",
            "Building wheels for collected packages: fasttext\n",
            "  Building wheel for fasttext (setup.py) ... \u001b[?25l\u001b[?25hdone\n",
            "  Created wheel for fasttext: filename=fasttext-0.9.2-cp37-cp37m-linux_x86_64.whl size=3127634 sha256=a1cf880c5ab27dab0765b4a0e5b31659f68f8ffbda72dc6afb44f2293aa2dddb\n",
            "  Stored in directory: /root/.cache/pip/wheels/4e/ca/bf/b020d2be95f7641801a6597a29c8f4f19e38f9c02a345bab9b\n",
            "Successfully built fasttext\n",
            "Installing collected packages: pybind11, fasttext\n",
            "Successfully installed fasttext-0.9.2 pybind11-2.9.0\n"
          ]
        }
      ]
    },
    {
      "cell_type": "markdown",
      "source": [
        "### Question 3"
      ],
      "metadata": {
        "id": "zvGjYOwNtq5e"
      }
    },
    {
      "cell_type": "code",
      "source": [
        "import pandas as pd\n",
        "import fasttext\n",
        "import re"
      ],
      "metadata": {
        "id": "LAvvR61TvcFI"
      },
      "execution_count": 7,
      "outputs": []
    },
    {
      "cell_type": "code",
      "source": [
        "df = pd.read_csv(\"https://raw.githubusercontent.com/BaptisteHurel/DeepLearning/main/NLP/labels.csv\")"
      ],
      "metadata": {
        "id": "VNUoBdhVtrJ_"
      },
      "execution_count": 13,
      "outputs": []
    },
    {
      "cell_type": "code",
      "source": [
        "#df.isna().sum()"
      ],
      "metadata": {
        "id": "U8rJq9mGwkBC"
      },
      "execution_count": 11,
      "outputs": []
    },
    {
      "cell_type": "code",
      "source": [
        "df['tweet'] = df['tweet'].apply(lambda tweet: re.sub('[^A-Za-z]+', ' ', tweet.lower()))\n",
        "\n",
        "df=df.drop(['Unnamed: 0',\n",
        " 'count',\n",
        " 'hate_speech',\n",
        " 'offensive_language',\n",
        " 'neither'], axis=1)"
      ],
      "metadata": {
        "id": "lw8tSAoC24IE"
      },
      "execution_count": 14,
      "outputs": []
    },
    {
      "cell_type": "code",
      "source": [
        "df.head()"
      ],
      "metadata": {
        "colab": {
          "base_uri": "https://localhost:8080/",
          "height": 206
        },
        "id": "k-ADZsB0wNq3",
        "outputId": "98f2419e-1d43-4422-e364-6d6a2c567ffb"
      },
      "execution_count": 15,
      "outputs": [
        {
          "output_type": "execute_result",
          "data": {
            "text/html": [
              "\n",
              "  <div id=\"df-14603c58-bbac-4363-baf8-a03717599dc3\">\n",
              "    <div class=\"colab-df-container\">\n",
              "      <div>\n",
              "<style scoped>\n",
              "    .dataframe tbody tr th:only-of-type {\n",
              "        vertical-align: middle;\n",
              "    }\n",
              "\n",
              "    .dataframe tbody tr th {\n",
              "        vertical-align: top;\n",
              "    }\n",
              "\n",
              "    .dataframe thead th {\n",
              "        text-align: right;\n",
              "    }\n",
              "</style>\n",
              "<table border=\"1\" class=\"dataframe\">\n",
              "  <thead>\n",
              "    <tr style=\"text-align: right;\">\n",
              "      <th></th>\n",
              "      <th>class</th>\n",
              "      <th>tweet</th>\n",
              "    </tr>\n",
              "  </thead>\n",
              "  <tbody>\n",
              "    <tr>\n",
              "      <th>0</th>\n",
              "      <td>2</td>\n",
              "      <td>rt mayasolovely as a woman you shouldn t comp...</td>\n",
              "    </tr>\n",
              "    <tr>\n",
              "      <th>1</th>\n",
              "      <td>1</td>\n",
              "      <td>rt mleew boy dats cold tyga dwn bad for cuffi...</td>\n",
              "    </tr>\n",
              "    <tr>\n",
              "      <th>2</th>\n",
              "      <td>1</td>\n",
              "      <td>rt urkindofbrand dawg rt sbaby life you ever ...</td>\n",
              "    </tr>\n",
              "    <tr>\n",
              "      <th>3</th>\n",
              "      <td>1</td>\n",
              "      <td>rt c g anderson viva based she look like a tr...</td>\n",
              "    </tr>\n",
              "    <tr>\n",
              "      <th>4</th>\n",
              "      <td>1</td>\n",
              "      <td>rt shenikaroberts the shit you hear about me ...</td>\n",
              "    </tr>\n",
              "  </tbody>\n",
              "</table>\n",
              "</div>\n",
              "      <button class=\"colab-df-convert\" onclick=\"convertToInteractive('df-14603c58-bbac-4363-baf8-a03717599dc3')\"\n",
              "              title=\"Convert this dataframe to an interactive table.\"\n",
              "              style=\"display:none;\">\n",
              "        \n",
              "  <svg xmlns=\"http://www.w3.org/2000/svg\" height=\"24px\"viewBox=\"0 0 24 24\"\n",
              "       width=\"24px\">\n",
              "    <path d=\"M0 0h24v24H0V0z\" fill=\"none\"/>\n",
              "    <path d=\"M18.56 5.44l.94 2.06.94-2.06 2.06-.94-2.06-.94-.94-2.06-.94 2.06-2.06.94zm-11 1L8.5 8.5l.94-2.06 2.06-.94-2.06-.94L8.5 2.5l-.94 2.06-2.06.94zm10 10l.94 2.06.94-2.06 2.06-.94-2.06-.94-.94-2.06-.94 2.06-2.06.94z\"/><path d=\"M17.41 7.96l-1.37-1.37c-.4-.4-.92-.59-1.43-.59-.52 0-1.04.2-1.43.59L10.3 9.45l-7.72 7.72c-.78.78-.78 2.05 0 2.83L4 21.41c.39.39.9.59 1.41.59.51 0 1.02-.2 1.41-.59l7.78-7.78 2.81-2.81c.8-.78.8-2.07 0-2.86zM5.41 20L4 18.59l7.72-7.72 1.47 1.35L5.41 20z\"/>\n",
              "  </svg>\n",
              "      </button>\n",
              "      \n",
              "  <style>\n",
              "    .colab-df-container {\n",
              "      display:flex;\n",
              "      flex-wrap:wrap;\n",
              "      gap: 12px;\n",
              "    }\n",
              "\n",
              "    .colab-df-convert {\n",
              "      background-color: #E8F0FE;\n",
              "      border: none;\n",
              "      border-radius: 50%;\n",
              "      cursor: pointer;\n",
              "      display: none;\n",
              "      fill: #1967D2;\n",
              "      height: 32px;\n",
              "      padding: 0 0 0 0;\n",
              "      width: 32px;\n",
              "    }\n",
              "\n",
              "    .colab-df-convert:hover {\n",
              "      background-color: #E2EBFA;\n",
              "      box-shadow: 0px 1px 2px rgba(60, 64, 67, 0.3), 0px 1px 3px 1px rgba(60, 64, 67, 0.15);\n",
              "      fill: #174EA6;\n",
              "    }\n",
              "\n",
              "    [theme=dark] .colab-df-convert {\n",
              "      background-color: #3B4455;\n",
              "      fill: #D2E3FC;\n",
              "    }\n",
              "\n",
              "    [theme=dark] .colab-df-convert:hover {\n",
              "      background-color: #434B5C;\n",
              "      box-shadow: 0px 1px 3px 1px rgba(0, 0, 0, 0.15);\n",
              "      filter: drop-shadow(0px 1px 2px rgba(0, 0, 0, 0.3));\n",
              "      fill: #FFFFFF;\n",
              "    }\n",
              "  </style>\n",
              "\n",
              "      <script>\n",
              "        const buttonEl =\n",
              "          document.querySelector('#df-14603c58-bbac-4363-baf8-a03717599dc3 button.colab-df-convert');\n",
              "        buttonEl.style.display =\n",
              "          google.colab.kernel.accessAllowed ? 'block' : 'none';\n",
              "\n",
              "        async function convertToInteractive(key) {\n",
              "          const element = document.querySelector('#df-14603c58-bbac-4363-baf8-a03717599dc3');\n",
              "          const dataTable =\n",
              "            await google.colab.kernel.invokeFunction('convertToInteractive',\n",
              "                                                     [key], {});\n",
              "          if (!dataTable) return;\n",
              "\n",
              "          const docLinkHtml = 'Like what you see? Visit the ' +\n",
              "            '<a target=\"_blank\" href=https://colab.research.google.com/notebooks/data_table.ipynb>data table notebook</a>'\n",
              "            + ' to learn more about interactive tables.';\n",
              "          element.innerHTML = '';\n",
              "          dataTable['output_type'] = 'display_data';\n",
              "          await google.colab.output.renderOutput(dataTable, element);\n",
              "          const docLink = document.createElement('div');\n",
              "          docLink.innerHTML = docLinkHtml;\n",
              "          element.appendChild(docLink);\n",
              "        }\n",
              "      </script>\n",
              "    </div>\n",
              "  </div>\n",
              "  "
            ],
            "text/plain": [
              "   class                                              tweet\n",
              "0      2   rt mayasolovely as a woman you shouldn t comp...\n",
              "1      1   rt mleew boy dats cold tyga dwn bad for cuffi...\n",
              "2      1   rt urkindofbrand dawg rt sbaby life you ever ...\n",
              "3      1   rt c g anderson viva based she look like a tr...\n",
              "4      1   rt shenikaroberts the shit you hear about me ..."
            ]
          },
          "metadata": {},
          "execution_count": 15
        }
      ]
    },
    {
      "cell_type": "markdown",
      "source": [
        "### Question 4"
      ],
      "metadata": {
        "id": "mNf8YYBgPI10"
      }
    },
    {
      "cell_type": "code",
      "source": [
        "all_texts = df['tweet'].tolist()\n",
        "all_labels = df['class'].tolist()\n",
        "prep_datapoints=[]"
      ],
      "metadata": {
        "id": "Uf8Usf2NPIkM"
      },
      "execution_count": 16,
      "outputs": []
    },
    {
      "cell_type": "code",
      "source": [
        "\n",
        "for i in range(len(all_texts)):\n",
        "    sample = '__label__'+ str(all_labels[i]) + ' '+ all_texts[i]\n",
        "    prep_datapoints.append(sample)"
      ],
      "metadata": {
        "id": "l69vXwMA2_1U"
      },
      "execution_count": 17,
      "outputs": []
    },
    {
      "cell_type": "markdown",
      "source": [
        "### Question 5"
      ],
      "metadata": {
        "id": "m7P2gFuwLckC"
      }
    },
    {
      "cell_type": "code",
      "source": [
        "len(prep_datapoints)==len(df)"
      ],
      "metadata": {
        "colab": {
          "base_uri": "https://localhost:8080/"
        },
        "id": "zLwLg7rE2zYP",
        "outputId": "ebb8cc83-b6fd-4579-ed83-068d9105674d"
      },
      "execution_count": 18,
      "outputs": [
        {
          "output_type": "execute_result",
          "data": {
            "text/plain": [
              "True"
            ]
          },
          "metadata": {},
          "execution_count": 18
        }
      ]
    },
    {
      "cell_type": "code",
      "source": [
        "with open('./test_train_fasttext.txt','w') as f:\n",
        "    for datapoint in prep_datapoints:\n",
        "        f.write(datapoint)\n",
        "        f.write('\\n')\n",
        "    f.close()"
      ],
      "metadata": {
        "id": "26uFIoQ02sIf"
      },
      "execution_count": 20,
      "outputs": []
    },
    {
      "cell_type": "code",
      "source": [
        "model = fasttext.train_supervised('./test_train_fasttext.txt')"
      ],
      "metadata": {
        "id": "OSamkw312pQA"
      },
      "execution_count": 22,
      "outputs": []
    },
    {
      "cell_type": "code",
      "source": [
        "# Skipgram model :\n",
        "model_skpg = fasttext.train_unsupervised('./test_train_fasttext.txt', model='skipgram')"
      ],
      "metadata": {
        "id": "fSud68N42nDM"
      },
      "execution_count": 23,
      "outputs": []
    },
    {
      "cell_type": "code",
      "source": [
        "model.predict(\"thanks you for your services \")"
      ],
      "metadata": {
        "id": "SGXI5_RJLdFE",
        "colab": {
          "base_uri": "https://localhost:8080/"
        },
        "outputId": "0b0fbfe5-be3a-4f88-80fa-a78eea476db5"
      },
      "execution_count": 24,
      "outputs": [
        {
          "output_type": "execute_result",
          "data": {
            "text/plain": [
              "(('__label__2',), array([0.93107045]))"
            ]
          },
          "metadata": {},
          "execution_count": 24
        }
      ]
    },
    {
      "cell_type": "markdown",
      "source": [
        "### Question 6"
      ],
      "metadata": {
        "id": "mszUm0ceUFBH"
      }
    },
    {
      "cell_type": "code",
      "source": [
        "print(model_skpg.words)   # list of words in dictionary"
      ],
      "metadata": {
        "id": "XDkWidkPUFMl",
        "colab": {
          "base_uri": "https://localhost:8080/"
        },
        "outputId": "749ce652-81f7-42f5-f7bc-5d6173504321"
      },
      "execution_count": 25,
      "outputs": [
        {
          "output_type": "stream",
          "name": "stdout",
          "text": [
            "['</s>', 'i', 'a', 'bitch', 'rt', 'the', 't', 'you', 'to', 'that', 'and', 'my', 'bitches', 'in', 'co', 'is', 'http', 'like', 'me', 's', 'it', 'of', 'on', 'hoes', 'be', 'this', 'pussy', 'for', 'all', 'hoe', 'with', 'm', 'ass', 'your', 'up', 'if', 'don', 'they', 'but', 'just', 'get', 'fuck', 'so', 'can', 'u', 'she', 'no', 'when', 'these', 'shit', 'got', 'nigga', 'not', 'was', 'trash', 'are', 'her', 'at', 'he', 'lol', 'out', 'have', 'what', 'amp', 'ain', 'about', 'some', 'do', 'we', 'know', 'niggas', 'who', 'one', 'how', 'them', 'love', 're', 'or', 'as', 'go', 'fucking', 'yo', 'now', 'want', 'bad', 'from', 'why', 'then', 'y', 'man', 'his', 'good', 'too', 'im', 'off', 'ya', 'say', 'make', 'look', 'still', 'see', 'hate', 'an', 'back', 'only', 'think', 'need', 'time', 'never', 'will', 'faggot', 'really', 'real', 'people', 'girl', 'let', 'there', 'white', 'right', 'would', 'even', 'being', 'bird', 'lmao', 'll', 'd', 'said', 'here', 'n', 'more', 'by', 'over', 'had', 'their', 'day', 'life', 'dick', 'wit', 'been', 'wanna', 'than', 'down', 'bout', 'stop', 'damn', 'because', 'little', 'call', 'tell', 'gt', 'da', 'talk', 'come', 'gotta', 'yankees', 'charlie', 'dont', 'cause', 'new', 'take', 'dat', 'lil', 'its', 'gonna', 'him', 'every', 'money', 'always', 'has', 'girls', 'niggah', 'better', 'going', 'where', 'ever', 'eat', 'b', 'ghetto', 'am', 'give', 'retarded', 'dumb', 'yellow', 'fuckin', 'aint', 'other', 'big', 'twitter', 'cunt', 'talking', 'ugly', 'ur', 'tho', 'put', 'into', 'stupid', 'getting', 'nigger', 'should', 'yall', 'black', 've', 'keep', 'did', 'fat', 'much', 'way', 'birds', 'same', 'hit', 'fag', 'yeah', 'w', 'em', 'today', 'feel', 'o', 'ho', 'game', 'https', 'old', 'boy', 'oh', 'mad', 'well', 'smh', 'made', 'after', 'someone', 'could', 'around', 'those', 'cuz', 'last', 'before', 'best', 'gone', 'play', 'side', 'something', 'called', 'tryna', 'us', 'happy', 'many', 'next', 'first', 'r', 'colored', 'face', 'sex', 'another', 'shut', 'fucked', 'work', 'mean', 'any', 'monkey', 'night', 'thing', 'most', 'didn', 'school', 'nicca', 'k', 'baby', 'crazy', 'god', 'were', 'two', 'head', 'x', 'won', 'women', 'name', 'thats', 'nothing', 'bro', 'looking', 'haha', 'such', 'having', 'told', 'find', 'hell', 'try', 'while', 'broke', 'gon', 'again', 'gay', 'start', 'doing', 'bruh', 'year', 'beat', 'show', 'high', 'friends', 'watch', 'seen', 'g', 'stay', 'loyal', 'tonight', 'c', 'kill', 'phone', 'tweet', 'done', 'swear', 'house', 'ima', 'guys', 'dude', 'nah', 'trying', 'thought', 'use', 'our', 'pretty', 'lt', 'home', 'cute', 'everybody', 'wrong', 'does', 'ask', 'hard', 'please', 'yes', 'already', 'trust', 'turn', 'j', 'wtf', 'funny', 'might', 'wish', 'guy', 'act', 'fight', 'niccas', 'hot', 'makes', 'red', 'world', 'free', 'long', 'straight', 'care', 'mom', 'live', 'sorry', 'p', 'lot', 'nig', 'hair', 'buy', 'kids', 'dis', 'days', 'making', 'nobody', 'faggots', 'tf', 'bring', 'retard', 'hope', 'h', 'fake', 'saying', 'sure', 'went', 'jason', 'looks', 'car', 'doesn', 'cut', 'stfu', 'though', 'wait', 'suck', 'l', 'woman', 'hey', 'son', 'young', 'anything', 'gets', 'since', 'song', 'text', 'ok', 'pussies', 'eating', 'kieffer', 'away', 'e', 'f', 'remember', 'great', 'jus', 'lmfao', 'cool', 'both', 'bet', 'own', 'says', 'guess', 'full', 'cant', 'dem', 'everyone', 'throw', 'playing', 'nigguh', 'job', 'weed', 'sleep', 'probably', 'tweets', 'single', 'everything', 'whole', 'thanks', 'nice', 'die', 'leave', 'brownies', 'type', 'music', 'top', 'calling', 'half', 'men', 'left', 'ion', 'basic', 'niggers', 'follow', 'run', 'bc', 'yea', 'wife', 'pull', 'redneck', 'team', 'word', 'took', 'mouth', 'af', 'years', 'mind', 'wear', 'th', 'party', 'females', 'yet', 'queer', 'things', 'maybe', 'miss', 'bae', 'until', 'birthday', 'omg', 'dog', 'must', 'dead', 'wasn', 'morning', 'used', 'ma', 'watching', 'either', 'once', 'believe', 'ex', 'z', 'pay', 'without', 'needs', 'food', 'wanted', 'pic', 'wants', 'isn', 'lost', 'porn', 'outta', 'else', 'okay', 'mock', 'iphone', 'dyke', 'myself', 'boys', 'friend', 'nd', 'fun', 'line', 'person', 'actually', 'wow', 'point', 'main', 'st', 'stand', 'brown', 'win', 'thank', 'oreo', 'chill', 'video', 'saw', 'class', 'somebody', 'nasty', 'via', 'smoke', 'idk', 'club', 'booty', 'week', 'coming', 'gave', 'tried', 'couldn', 'reason', 'fags', 'came', 'true', 'change', 'ready', 'sick', 'sit', 'racist', 'also', 'body', 'catch', 'wouldn', 'through', 'obama', 'respect', 'break', 'wearing', 'place', 'v', 'acting', 'female', 'goes', 'rather', 'eyes', 'hear', 'naw', 'ill', 'girlfriend', 'talkin', 'gettin', 'favorite', 'crackers', 'dirty', 'pregnant', 'cold', 'walk', 'problem', 'heart', 'drunk', 'jihadi', 'lookin', 'tired', 'fans', 'couple', 'light', 'yankee', 'move', 'comes', 'ah', 'ha', 'dad', 'rich', 'end', 'lie', 'hurt', 'heard', 'fact', 'none', 'chick', 'early', 'q', 'send', 'yourself', 'finna', 'fine', 'enough', 'boyfriend', 'outside', 'together', 'listen', 'flappy', 'taking', 'times', 'wonder', 'pass', 'water', 'mr', 'ratchet', 'imma', 'number', 'bed', 'games', 'anyone', 'sound', 'least', 'bye', 'ppl', 'cracker', 'lame', 'cry', 'pop', 'yu', 'thinking', 'sexy', 'self', 'pick', 'wet', 'found', 'cheat', 'sometimes', 'sad', 'pics', 'front', 'instagram', 'kid', 'open', 'literally', 'niggaz', 'mine', 'meet', 'date', 'shoot', 'giving', 'drop', 'few', 'oreos', 'hand', 'sole', 'lady', 'may', 'tomorrow', 'check', 'city', 'lose', 'means', 'america', 'relationship', 'coon', 'smell', 'voice', 'almost', 'ago', 'serious', 'understand', 'thirsty', 'xxx', 'read', 'help', 'low', 'family', 'redskins', 'ride', 'thot', 'season', 'quit', 'room', 'android', 'picture', 'dudes', 'killed', 'hella', 'annoying', 'slap', 'attention', 'sweet', 'sum', 'quick', 'weekend', 'weak', 'instead', 'unless', 'uncle', 'knows', 'crying', 'kno', 'till', 'skinny', 'against', 'different', 'drive', 'ipad', 'truth', 'feelings', 'ate', 'hood', 'started', 'business', 'likes', 'mother', 'cat', 'bunch', 'beautiful', 'hahaha', 'words', 'tranny', 'slut', 'state', 'ball', 'taste', 'nudes', 'asian', 'bag', 'drink', 'shot', 'telling', 'wake', 'dress', 'which', 'asked', 'post', 'daddy', 'lying', 'lmaoo', 'forget', 'ones', 'alone', 'blue', 'everyday', 'movie', 'hold', 'aren', 'nothin', 'perfect', 'fly', 'teabaggers', 'matter', 'whatever', 'running', 'jesus', 'teabagger', 'soon', 'round', 'later', 'king', 'twat', 'hi', 'cunts', 'negro', 'worried', 'set', 'using', 'momma', 'isis', 'pictures', 'boss', 'kinda', 'very', 'ice', 'anymore', 'jay', 'brownie', 'karma', 'deep', 'tcot', 'social', 'weird', 'knew', 'far', 'la', 'hands', 'tl', 'met', 'working', 'prolly', 'huh', 'grow', 'door', 'ol', 'dawg', 'cream', 'chicken', 'fan', 'save', 'public', 'joe', 'thinks', 'glad', 'chris', 'street', 'retards', 'kind', 'sell', 'behind', 'tom', 'mf', 'past', 'clothes', 'story', 'ig', 'bullshit', 'thru', 'mama', 'laugh', 'dey', 'kick', 'aye', 'slope', 'rick', 'realize', 'treat', 'ladies', 'hungry', 'under', 'clean', 'jihadis', 'walking', 'rap', 'worth', 'thick', 'media', 'between', 'hating', 'doe', 'waiting', 'country', 'skin', 'fire', 'id', 'sounds', 'american', 'sheen', 'race', 'green', 'whore', 'fucc', 'followers', 'lmaooo', 'crist', 'fall', 'halloween', 'biggest', 'loves', 'shirt', 'jeter', 'al', 'swag', 'fresh', 'drake', 'goin', 'proud', 'lets', 'fam', 'yung', 'texting', 'chicks', 'brother', 'attitude', 'speak', 'less', 'lucky', 'tha', 'easy', 'strong', 'worst', 'avi', 'sayin', 'poor', 'se', 'seeing', 'folk', 'late', 'seriously', 'friday', 'part', 'tweeting', 'rest', 'youre', 'niggahs', 'taken', 'seem', 'park', 'stick', 'paper', 'support', 'middle', 'summer', 'playin', 'problems', 'town', 'kiss', 'stuck', 'dm', 'close', 'neck', 'baddest', 'yours', 'become', 'calls', 'sucking', 'asking', 'jail', 'scared', 'rock', 'beer', 'forever', 'soul', 'block', 'lips', 'anyway', 'kim', 'dope', 'hillbilly', 'fuzzy', 'themselves', 'haven', 'shoes', 'fast', 'lick', 'cheese', 'learn', 'piece', 'vote', 'died', 'control', 'ugh', 'caught', 'forgot', 'roll', 'vs', 'blunt', 'super', 'played', 'balls', 'smack', 'scary', 'slow', 'tv', 'idntwearcondoms', 'naked', 'fucks', 'feet', 'laughing', 'chocolate', 'special', 'hop', 'turned', 'second', 'sister', 'fool', 'living', 'grade', 'stblocjeremiah', 'claim', 'blow', 'john', 'trippin', 'den', 'mess', 'idgaf', 'takes', 'short', 'gun', 'death', 'le', 'wat', 'photo', 'fa', 'cheating', 'future', 'level', 'bit', 'actin', 'joke', 'star', 'hairy', 'wack', 'months', 'finally', 'uh', 'nope', 'boring', 'huntermoore', 'three', 'finger', 'hang', 'weather', 'answer', 'mane', 'ran', 'homie', 'cock', 'basically', 'whitey', 'deserve', 'facebook', 'ina', 'handle', 'million', 'news', 'each', 'during', 'feeling', 'asshole', 'trap', 'teeth', 'gold', 'shy', 'looked', 'wild', 'chug', 'double', 'gucci', 'deal', 'smith', 'sucks', 'excuse', 'nick', 'small', 'texas', 'punk', 'buckm', 'course', 'cee', 'honestly', 'president', 'derek', 'weeks', 'tight', 'loud', 'drugs', 'fo', 'nips', 'nfl', 'ebola', 'eye', 'alex', 'teacher', 'throat', 'smoking', 'lonely', 'yesterday', 'cares', 'scott', 'crib', 'cops', 'butt', 'didnt', 'minute', 'dare', 'james', 'beautifulkeezy', 'bf', 'confused', 'mo', 'lebron', 'jordan', 'sbaby', 'doin', 'steal', 'football', 'childish', 'dry', 'supposed', 'pink', 'threw', 'coons', 'gym', 'songs', 'massage', 'rose', 'legs', 'welcome', 'joebudden', 'extra', 'especially', 'parents', 'random', 'bomb', 'angry', 'college', 'fell', 'babe', 'mexican', 'woke', 'complain', 'expect', 'child', 'chase', 'bought', 'youtube', 'month', 'mike', 'throwing', 'paid', 'argue', 'slit', 'cus', 'lives', 'blame', 'worry', 'cuh', 'jk', 'dream', 'blah', 'shouldn', 'smile', 'shitty', 'definitely', 'sports', 'smart', 'blood', 'rice', 'apparently', 'bitter', 'mlb', 'til', 'bill', 'gop', 'mans', 'baker', 'count', 'huge', 'idc', 'sense', 'test', 'power', 'flip', 'brought', 'lmaoooo', 'apes', 'internet', 'juice', 'facts', 'jump', 'herself', 'except', 'beef', 'famous', 'worse', 'candy', 'selling', 'rihanna', 'boo', 'box', 'xdsmooth', 'thug', 'bigger', 'stank', 'de', 'inside', 'enjoy', 'dropped', 'happen', 'fw', 'holy', 'moment', 'touch', 'clam', 'warm', 'wyattnuckels', 'bros', 'grown', 'police', 'ape', 'stuff', 'blocked', 'rednecks', 'seat', 'dark', 'nigs', 'ray', 'tbh', 'clearly', 'ole', 'tits', 'cats', 'step', 'fuk', 'heat', 'happens', 'tee', 'air', 'minutes', 'raw', 'soles', 'jealous', 'thang', 'nuts', 'across', 'hours', 'dance', 'suppose', 'dinner', 'based', 'player', 'sox', 'causewereguys', 'wont', 'oomf', 'queen', 'cook', 'knowing', 'wassup', 'rn', 'wifey', 'fairy', 'dnt', 'group', 'rude', 'hits', 'titties', 'anyways', 'bone', 'funnypicsdepot', 'trynna', 'ignorant', 'married', 'exactly', 'tongue', 'peace', 'monday', 'jig', 'nip', 'period', 'war', 'account', 'dese', 'neva', 'retweet', 'soft', 'dam', 'aka', 'human', 'dykes', 'spend', 'rd', 'push', 'hitting', 'lunch', 'shout', 'punch', 'nose', 'field', 'somethin', 'tip', 'grandma', 'east', 'planet', 'driving', 'austin', 'stadium', 'write', 'trip', 'foh', 'near', 'kinghorsedick', 'dats', 'gas', 'unfollow', 'color', 'dying', 'folks', 'flat', 'cash', 'gang', 'regular', 'bear', 'crow', 'vianawf', 'order', 'michael', 'wigga', 'offended', 'maniac', 'drinking', 'bookieg', 'tyga', 'cookies', 'cars', 'earth', 'baseball', 'slide', 'singing', 'saturday', 'xo', 'liberal', 'cop', 'ring', 'brandon', 'animal', 'mins', 'whipped', 'alright', 'abo', 'kanye', 'hat', 'hide', 'cripple', 'idea', 'starting', 'yr', 'garbage', 'friendlyassh', 'hoosiers', 'morningjoe', 'names', 'lord', 'attractive', 'etc', 'simple', 'panties', 'age', 'yanks', 'south', 'sam', 'born', 'winning', 'moms', 'putting', 'chillin', 'jack', 'chance', 'mocks', 'bus', 'feed', 'lay', 'drug', 'anybody', 'walked', 'everywhere', 'shake', 'safe', 'coffee', 'rip', 'cake', 'sbsylvester', 'pissed', 'eyebrows', 'pm', 'beaner', 'hes', 'bar', 'anti', 'offensive', 'quote', 'losing', 'lowkey', 'window', 'dogs', 'sitting', 'hahahaha', 'entire', 'tea', 'chunky', 'complete', 'molly', 'lies', 'florida', 'christmas', 'choke', 'amazing', 'wiz', 'cheated', 'children', 'winter', 'kobe', 'pizza', 'apple', 'piss', 'fried', 'headed', 'pants', 'coley', 'wayne', 'callin', 'named', 'era', 'fighting', 'knock', 'worm', 'jokes', 'major', 'dollars', 'fck', 'duck', 'freak', 'law', 'inkkofrosess', 'bust', 'george', 'rated', 'albino', 'west', 'sunday', 'himself', 'somewhere', 'alive', 'babies', 'known', 'faithful', 'longer', 'band', 'dumbass', 'basketball', 'messy', 'riding', 'thinkin', 'card', 'zebra', 'dreams', 'ignore', 'daughter', 'callmerenee', 'letting', 'heads', 'draft', 'tht', 'rape', 'cousin', 'teen', 'store', 'add', 'natural', 'el', 'tx', 'turns', 'hour', 'following', 'pet', 'er', 'tony', 'weave', 'weight', 'model', 'missed', 'sloppy', 'floor', 'evaittakes', 'nation', 'movies', 'tree', 'killing', 'difference', 'alot', 'term', 'turning', 'bread', 'cum', 'army', 'kingtunchi', 'silly', 'math', 'twice', 'gook', 'djzeeti', 'grizzboadams', 'speaking', 'dj', 'bday', 'aw', 'ctfu', 'hello', 'sos', 'happened', 'crack', 'breakfast', 'excited', 'giants', 'iam', 'fish', 'fr', 'wcw', 'vintage', 'daily', 'beanies', 'potato', 'midnight', 'nut', 'york', 'inch', 'felt', 'spic', 'shawty', 'asks', 'keeps', 'french', 'nerve', 'sooo', 'purpose', 'sign', 'average', 'players', 'spell', 'message', 'question', 'mall', 'wop', 'hatin', 'leelucas', 'boobs', 'bein', 'delete', 'pimp', 'surprised', 'hos', 'spa', 'watched', 'fear', 'zero', 'barackobama', 'rob', 'van', 'share', 'friendly', 'usually', 'havin', 'comin', 'tells', 'milk', 'sent', 'spot', 'trick', 'rain', 'michelle', 'lemme', 'often', 'gov', 'voiceofdstreetz', 'plays', 'fit', 'irrelevant', 'brain', 'monroe', 'bottle', 'bobby', 'admit', 'thunduh', 'um', 'sing', 'thereal', 'savage', 'yah', 'nun', 'miley', 'pot', 'showed', 'makeup', 'talks', 'seconds', 'tryin', 'page', 'screen', 'iont', 'stage', 'taught', 'score', 'jawshoeeahhh', 'lazy', 'wen', 'pig', 'total', 'afraid', 'typical', 'charge', 'shots', 'buddy', 'chink', 'tweeted', 'grab', 'scally', 'coach', 'feels', 'sold', 'na', 'gf', 'freshman', 'slept', 'doesnt', 'train', 'gives', 'espn', 'hick', 'election', 'opinion', 'breaking', 'luck', 'dating', 'montana', 'corny', 'arguing', 'murder', 'houston', 'sauce', 'record', 'fuc', 'puts', 'allowed', 'meant', 'built', 'shows', 'talked', 'hates', 'mi', 'size', 'harry', 'def', 'neither', 'list', 'doubt', 'brothers', 'local', 'needa', 'lmfaoo', 'dear', 'sqquad', 'loose', 'foreign', 'japanese', 'playoffs', 'followed', 'steve', 'streets', 'soccer', 'tough', 'african', 'california', 'bars', 'snap', 'agree', 'moving', 'dollar', 'tyler', 'dms', 'zone', 'jr', 'justin', 'paul', 'ten', 'mentions', 'constantly', 'republican', 'sir', 'lovin', 'muslim', 'feather', 'buying', 'leg', 'ik', 'rappers', 'raised', 'awesome', 'thirst', 'lmfaooo', 'reading', 'office', 'shoulda', 'shower', 'key', 'bow', 'twerk', 'duh', 'teams', 'accept', 'closed', 'clown', 'jim', 'pure', 'bored', 'oz', 'track', 'marriage', 'comment', 'ms', 'jobs', 'match', 'smfh', 'dressed', 'evil', 'mixtape', 'standing', 'judge', 'classy', 'dirt', 'missing', 'giant', 'beating', 'bald', 'seems', 'com', 'lead', 'vagina', 'teaparty', 'san', 'mt', 'grand', 'mrmooncricket', 'taylor', 'blind', 'bum', 'credit', 'saving', 'capodaasshole', 'lights', 'screaming', 'timeline', 'slant', 'cuhcuhcuh', 'lit', 'pops', 'thecoreyholcomb', 'complaining', 'btw', 'matt', 'gabby', 'solo', 'waste', 'lakers', 'leaving', 'nyrkelsmads', 'spanish', 'tbt', 'book', 'posting', 'attack', 'guns', 'road', 'devil', 'tall', 'action', 'political', 'nicki', 'chinese', 'salute', 'idiot', 'shoutout', 'rapper', 'sleeping', 'posted', 'personality', 'ew', 'mix', 'vonshayeb', 'caymarieee', 'lildurk', 'twinkie', 'faces', 'bio', 'questions', 'penis', 'border', 'cookie', 'teach', 'case', 'americans', 'hanging', 'easily', 'absolutely', 'locked', 'points', 'plans', 'asses', 'cancer', 'sportscenter', 'woof', 'plus', 'horny', 'hollywood', 'vegas', 'deez', 'sexual', 'sentence', 'wall', 'cotton', 'breed', 'everytime', 'four', 'lilduval', 'squad', 'whoever', 'fob', 'republicans', 'boi', 'snapchat', 'stevestfler', 'iu', 'liked', 'ashamed', 'bodies', 'works', 'paint', 'marie', 'older', 'barely', 'snow', 'kicked', 'gunna', 'mention', 'feelin', 'jam', 'sub', 'apart', 'ht', 'iubb', 'classic', 'bra', 'settle', 'selfies', 'millz', 'homies', 'wodaeeex', 'shorts', 'chasing', 'cans', 'dre', 'finish', 'ways', 'satisfied', 'system', 'purple', 'marry', 'eh', 'stealing', 'showing', 'bags', 'kevin', 'stole', 'yep', 'goals', 'hun', 'cover', 'stress', 'dc', 'soo', 'pollo', 'steveworks', 'faced', 'owe', 'changed', 'ny', 'chulo', 'shane', 'walks', 'lmfaoooo', 'forreal', 'bottom', 'luu', 'mimi', 'mckinley', 'shame', 'pulled', 'important', 'beans', 'leaves', 'vine', 'fault', 'general', 'jersey', 'pack', 'lately', 'status', 'johnny', 'bud', 'amber', 'meat', 'bs', 'career', 'ike', 'reply', 'filled', 'listening', 'mfs', 'fucker', 'pipe', 'series', 'master', 'poppin', 'blew', 'dicks', 'pacdagoat', 'flight', 'butter', 'theonemiss', 'taxstone', 'final', 'protect', 'beats', 'secret', 'regardless', 'along', 'betta', 'remind', 'thotcho', 'hype', 'ferguson', 'nobeeetch', 'cuts', 'bang', 'broken', 'itsnotharold', 'kay', 'og', 'horrible', 'bo', 'episode', 'slapped', 'twinkies', 'entertaining', 'flash', 'upset', 'tellin', 'sons', 'takin', 'bravo', 'stone', 'nba', 'shorty', 'asleep', 'afc', 'tank', 'emoji', 'sharing', 'father', 'funky', 'elchavaloko', 'radio', 'exist', 'league', 'album', 'selfie', 'coward', 'tour', 'pathetic', 'camera', 'loved', 'dswizzle', 'whiny', 'girlfriends', 'mickey', 'knocked', 'beaners', 'davis', 'orange', 'advice', 'smokin', 'minaj', 'whats', 'busy', 'slick', 'syria', 'vibe', 'non', 'royals', 'plan', 'homeless', 'governor', 'crew', 'others', 'stephyrae', 'online', 'pair', 'sluts', 'lls', 'starts', 'thompson', 'luv', 'salad', 'browns', 'democrats', 'unlike', 'foot', 'address', 'passed', 'italian', 'generation', 'walmart', 'uk', 'tupac', 'guinea', 'stomach', 'staring', 'thots', 'wins', 'captain', 'trouble', 'oriental', 'texts', 'alejandro', 'bihhh', 'spook', 'issue', 'triple', 'truly', 'laws', 'ca', 'lightskin', 'clear', 'assholes', 'ap', 'clicquotsuave', 'focus', 'killer', 'yous', 'current', 'housewife', 'cowboys', 'ryan', 'hilarious', 'kush', 'ordered', 'rule', 'wana', 'indiana', 'treated', 'honky', 'goodnight', 'hurry', 'nyc', 'eatin', 'magic', 'dump', 'crash', 'disrespectful', 'eric', 'jeans', 'wash', 'dr', 'tylar', 'visit', 'crowd', 'wears', 'lebronvuitton', 'toes', 'flu', 'tag', 'uce', 'breath', 'fashion', 'style', 'goal', 'corn', 'yrs', 'cc', 'cole', 'yelling', 'church', 'tricks', 'area', 'vice', 'senior', 'salty', 'beyond', 'relationships', 'disgusting', 'juicy', 'kissing', 'quiet', 'international', 'honkey', 'pro', 'catching', 'insecure', 'fav', 'boosie', 'zach', 'hearing', 'curve', 'court', 'das', 'ad', 'kidding', 'des', 'str', 'beyonc', 'mary', 'hashtag', 'socks', 'gtfo', 'totally', 'pie', 'trailer', 'raise', 'kept', 'impress', 'appreciate', 'glass', 'whiteponyjr', 'snitch', 'nipples', 'ova', 'value', 'hg', 'yopapi', 'hip', 'muzzie', 'scale', 'flag', 'sale', 'join', 'xoxo', 'sis', 'laid', 'chat', 'wanting', 'murda', 'eats', 'pressed', 'twerking', 'kardashian', 'fox', 'land', 'mini', 'nap', 'oo', 'mcdonald', 'base', 'pockets', 'stopped', 'fair', 'conversation', 'chiefkeef', 'island', 'pray', 'moon', 'spit', 'tattoos', 'lock', 'dip', 'beard', 'pr', 'burn', 'talmbout', 'desperate', 'six', 'couch', 'goddamn', 'wouldnt', 'filthy', 'chief', 'cyrus', 'mature', 'killin', 'pjnet', 'texted', 'pee', 'murphy', 'clock', 'learned', 'titty', 'makin', 'hole', 'paying', 'angel', 'report', 'latina', 'iggy', 'calm', 'vsamone', 'drama', 'defense', 'opening', 'corner', 'realest', 'knees', 'miles', 'tan', 'sun', 'josh', 'tastes', 'besides', 'teachers', 'slavery', 'peter', 'carl', 'sending', 'sosa', 'cannot', 'loser', 'switch', 'plz', 'shady', 'porch', 'callneeshcakey', 'lad', 'bless', 'tape', 'shooting', 'coloured', 'update', 'blonde', 'graham', 'cheap', 'gift', 'xbox', 'hater', 'assume', 'prayingforhead', 'including', 'addicted', 'birth', 'flying', 'lyrics', 'fries', 'favorites', 'government', 'kinghov', 'mikediggem', 'brag', 'cannon', 'afford', 'legal', 'five', 'saved', 'selfish', 'ended', 'theonlyreed', 'goofy', 'smash', 'caption', 'bob', 'fuckthemallcops', 'miami', 'fb', 'torahblaze', 'broads', 'larry', 'blast', 'petty', 'queers', 'experience', 'shes', 'glasses', 'sneak', 'disrespect', 'shits', 'soooo', 'chanelisabeth', 'officially', 'toe', 'bucket', 'professor', 'belong', 'heaven', 'david', 'certain', 'mac', 'ling', 'mets', 'accident', 'bouta', 'amos', 'burnt', 'starburst', 'common', 'bees', 'imneverchillin', 'wide', 'scream', 'refer', 'woody', 'lip', 'egg', 'brady', 'wee', 'needed', 'tickets', 'illegal', 'background', 'homemade', 'blakeanderson', 'ive', 'rent', 'cuff', 'above', 'price', 'atleast', 'film', 'spread', 'martin', 'chlldhoodruiner', 'shaped', 'thursday', 'sisters', 'hipster', 'liveitupjersey', 'pigs', 'ih', 'wind', 'stunt', 'promise', 'ta', 'nog', 'tiny', 'brand', 'asf', 'mood', 'sucked', 'johnson', 'realized', 'gorgeous', 'pac', 'wizkhalifa', 'woulda', 'app', 'figure', 'theres', 'tie', 'coulda', 'gram', 'outchea', 'hunterbuch', 'ego', 'negative', 'majority', 'clams', 'choose', 'normal', 'bull', 'honey', 'force', 'wilson', 'thou', 'attitudes', 'male', 'numbers', 'bump', 'dallas', 'bringing', 'acts', 'funniest', 'wasnt', 'ooh', 'diet', 'mrs', 'pom', 'ohh', 'wasting', 'aunt', 'service', 'note', 'sean', 'ace', 'jones', 'hmu', 'nuttin', 'oskzilla', 'neighborhood', 'craig', 'douche', 'rally', 'worked', 'hr', 'harder', 'uses', 'sandwich', 'wave', 'proof', 'possible', 'absolute', 'tattoo', 'greatest', 'washington', 'carry', 'debate', 'history', 'military', 'august', 'kicks', 'tacos', 'ac', 'plane', 'eagles', 'actual', 'leggings', 'kincade', 'surprise', 'terms', 'gots', 'nor', 'wondering', 'search', 'reality', 'kitty', 'jacket', 'english', 'adorable', 'creepy', 'cup', 'bestfriend', 'nights', 'ultimate', 'raped', 'burger', 'honest', 'scare', 'popped', 'kensuttling', 'racism', 'nowadays', 'darkskin', 'hbcufessions', 'victoria', 'lotta', 'lied', 'respond', 'national', 'jimmy', 'ross', 'tries', 'automatically', 'loving', 'jew', 'crap', 'kitchen', 'dan', 'hittin', 'challenge', 'sorryimalex', 'hunglikerobby', 'arm', 'legend', 'haters', 'souljaboy', 'grass', 'sumn', 'pain', 'anal', 'holding', 'crystal', 'oil', 'beauty', 'wings', 'fucken', 'whine', 'simply', 'louievree', 'ing', 'homework', 'fingers', 'israel', 'crows', 'goat', 'bi', 'gator', 'iraq', 'china', 'nails', 'wrote', 'cuddle', 'crime', 'stname', 'eva', 'twist', 'doo', 'scene', 'coke', 'liquor', 'yup', 'given', 'lilreese', 'badass', 'ne', 'lee', 'stacydmomof', 'sugar', 'bitching', 'plano', 'dragon', 'stevie', 'cantucimblonde', 'kacado', 'pattism', 'tae', 'lesbian', 'todd', 'logic', 'continue', 'table', 'explain', 'deserved', 'statement', 'view', 'bound', 'niqqa', 'response', 'wus', 'boyfriends', 'trade', 'liking', 'virgin', 'ugliest', 'books', 'sensitive', 'hopes', 'easier', 'negros', 'sweetest', 'dawn', 'code', 'unfollowed', 'snacks', 'koleworld', 'square', 'ciscoallday', 'ron', 'netflix', 'ivanrabago', 'tn', 'mannn', 'deserves', 'yard', 'decided', 'lean', 'energy', 'british', 'ps', 'dwight', 'mob', 'choice', 'officiallyice', 'yal', 'graduation', 'bush', 'blessed', 'interview', 'thoughts', 'emotional', 'lots', 'fu', 'wine', 'congrats', 'press', 'orleans', 'pretend', 'shyt', 'ilovebamf', 'nappy', 'states', 'juss', 'tail', 'whereyohussleat', 'hopefully', 'taecocky', 'smells', 'fellas', 'hockey', 'taco', 'sweat', 'drinks', 'fugly', 'popping', 'aj', 'shop', 'shitting', 'shaved', 'crush', 'rockin', 'cali', 'morbidmermaid', 'sky', 'vodka', 'dee', 'tu', 'adam', 'community', 'language', 'scum', 'pillow', 'adult', 'turnt', 'ay', 'eddie', 'homo', 'min', 'omfg', 'emojis', 'scandal', 'suckin', 'realniggasherm', 'campaign', 'steady', 'kills', 'diss', 'concert', 'mostly', 'nipple', 'interesting', 'fruit', 'gabrielaangela', 'jumped', 'smashed', 'written', 'finished', 'hook', 'slowly', 'msnbc', 'spent', 'aha', 'twats', 'brah', 'broski', 'trey', 'ears', 'ss', 'rangel', 'muslims', 'relax', 'hurts', 'borrow', 'building', 'phones', 'cards', 'kelly', 'boom', 'horse', 'luke', 'democrat', 'comments', 'stalk', 'purse', 'shine', 'revkahjc', 'sc', 'chaysin', 'sup', 'wetback', 'mistake', 'stalking', 'rid', 'az', 'gimme', 'target', 'alcohol', 'tripping', 'tryn', 'twitpic', 'draw', 'log', 'jo', 'official', 'upon', 'blowing', 'emandm', 'doctor', 'bounce', 'liberals', 'gorgeouscamry', 'jungle', 'sober', 'bee', 'bright', 'contacts', 'bullet', 'cuffing', 'candidate', 'treasure', 'workout', 'chain', 'whip', 'ant', 'pit', 'shirts', 'strap', 'frfr', 'clubs', 'pistol', 'failed', 'exposed', 'aerii', 'fed', 'wise', 'wigger', 'pill', 'je', 'strippers', 'ocean', 'thevoiceofmiami', 'sudden', 'prom', 'yasss', 'towards', 'contact', 'detroit', 'character', 'justezzzee', 'wrap', 'outfit', 'sack', 'flock', 'whoa', 'lamar', 'currently', 'issues', 'levels', 'released', 'bpu', 'finding', 'dfkinlopes', 'hiding', 'woridstarhlphop', 'nike', 'cuffin', 'parties', 'likely', 'abt', 'grind', 'gm', 'qzyft', 'lmaoooooo', 'costume', 'related', 'arrested', 'wasp', 'glizzy', 'cameron', 'poop', 'cb', 'stolen', 'nochillpaz', 'justinmiculka', 'sink', 'threesome', 'aa', 'slaying', 'slippery', 'successful', 'huffingtonpost', 'definition', 'mook', 'mixed', 'boots', 'gum', 'irish', 'dressing', 'slutty', 'notoriousbm', 'pulling', 'splash', 'understood', 'steak', 'weren', 'celebrate', 'mic', 'students', 'christ', 'situation', 'bt', 'hotter', 'miserable', 'rollin', 'ian', 'fantasy', 'convo', 'macktology', 'quan', 'bitchin', 'colors', 'thousand', 'aid', 'trashy', 'knw', 'member', 'nite', 'fasho', 'revenge', 'sexualgif', 'lmfaooooo', 'ladykimora', 'twins', 'becomes', 'talm', 'heartless', 'nbs', 'wcvb', 'version', 'ref', 'husband', 'aids', 'anywhere', 'sooooo', 'slopes', 'freaky', 'student', 'cam', 'ungrateful', 'brazil', 'trusted', 'tend', 'cuffed', 'solid', 'busted', 'cle', 'build', 'stripper', 'hugs', 'fleek', 'sight', 'ned', 'computer', 'popular', 'art', 'killallsimps', 'williams', 'consider', 'stoner', 'dike', 'yg', 'lines', 'evanbecker', 'peyton', 'yaremisxo', 'kudabrazyy', 'jt', 'whining', 'blunts', 'softestmuffin', 'mark', 'species', 'nikki', 'livin', 'ona', 'sh', 'snacka', 'private', 'honkies', 'tool', 'joey', 'imagine', 'amy', 'wedding', 'beach', 'justkarahn', 'waking', 'eyed', 'freeze', 'cnn', 'fix', 'po', 'uncleunco', 'bobbybotsods', 'faster', 'racistnegro', 'schools', 'false', 'north', 'pan', 'rate', 'tone', 'baltimore', 'carter', 'nigglet', 'phil', 'obviously', 'anchor', 'lived', 'picked', 'trill', 'kxrxsxb', 'princess', 'spray', 'invite', 'legit', 'belt', 'vg', 'breaks', 'terrorists', 'ground', 'thomas', 'ft', 'un', 'lmaooooo', 'bowl', 'starbucks', 'grew', 'mental', 'imtoblame', 'polo', 'title', 'choosin', 'benny', 'camp', 'reaction', 'rite', 'ewww', 'homeboy', 'fancy', 'ye', 'yungmigo', 'skills', 'anglo', 'enemy', 'woohdakidd', 'chip', 'zzachbarness', 'stuffed', 'gossip', 'bacon', 'sammi', 'boyden', 'noticed', 'sammylightning', 'mann', 'pocket', 'obsessed', 'ent', 'turtle', 'sa', 'cloud', 'kik', 'gezus', 'theses', 'zebras', 'oscar', 'celebrity', 'brooklyn', 'pool', 'ed', 'astros', 'htt', 'accounts', 'throbbing', 'een', 'cleveland', 'hillbillies', 'chinks', 'wore', 'pepper', 'pre', 'virginia', 'idoclyfe', 'arms', 'zimmerman', 'marcus', 'en', 'ghost', 'ear', 'karmas', 'foul', 'hypocrite', 'thee', 'gotten', 'niglet', 'diamond', 'hated', 'ds', 'ayo', 'mk', 'chicago', 'rod', 'spam', 'viridoesitt', 'manning', 'collegefession', 'subtweet', 'uniform', 'slip', 'ty', 'pills', 'nowhere', 'cap', 'correct', 'holiday', 'joy', 'moves', 'tear', 'blacks', 'russell', 'bitty', 'assuming', 'plenty', 'anaconda', 'dates', 'jigg', 'necessary', 'tharealist', 'doors', 'positive', 'rakwonogod', 'chilling', 'stairs', 'mouf', 'bell', 'lake', 'third', 'purge', 'shall', 'xpriceless', 'chest', 'murdered', 'brian', 'info', 'bbluedreamm', 'staying', 'anthonycumia', 'chose', 'able', 'hug', 'atl', 'fail', 'bands', 'jet', 'bunny', 'blowin', 'stink', 'supreme', 'loss', 'gross', 'catfish', 'ben', 'standards', 'lovely', 'con', 'pierced', 'tale', 'moaning', 'bonnoxxx', 'tonyjrodriguez', 'shoe', 'texans', 'wifi', 'watchin', 'slapping', 'hats', 'skyereyes', 'beg', 'qb', 'patrick', 'bank', 'claiming', 'belly', 'js', 'jb', 'ios', 'suicide', 'spear', 'usa', 'argument', 'shopping', 'changing', 'due', 'haircut', 'hicks', 'pimps', 'circle', 'mcm', 'vic', 'mj', 'rare', 'unloyal', 'jake', 'flow', 'savanigga', 'maury', 'autocorrect', 'teddy', 'disgrace', 'politics', 'tori', 'profile', 'bike', 'return', 'entertain', 'loyalty', 'copy', 'example', 'corey', 'prime', 'mbiedance', 'ankles', 'broad', 'saudi', 'leo', 'flipping', 'views', 'craziestsex', 'stands', 'bat', 'vet', 'isnt', 'currensy', 'spitta', 'oml', 'guilty', 'mn', 'leader', 'higher', 'falls', 'tears', 'clutch', 'runnin', 'struggle', 'bare', 'doc', 'mines', 'ham', 'stacks', 'pointless', 'kendrick', 'jjauthor', 'yass', 'norahodonnell', 'rachel', 'duty', 'nahh', 'walkin', 'wdnick', 'beefing', 'milf', 'thanksgiving', 'prettykells', 'tonite', 'nephew', 'pretending', 'stblock', 'anderson', 'frm', 'tvvitterhoes', 'print', 'cord', 'senorsteez', 'beast', 'lvl', 'chances', 'highclasscapri', 'battle', 'tweakin', 'darknight', 'discuss', 'sin', 'kazatta', 'sea', 'highly', 'hs', 'asap', 'cousins', 'plastic', 'pounds', 'prude', 'henny', 'stud', 'pt', 'wheeler', 'cutting', 'shiner', 'mon', 'realtalk', 'ch', 'cavs', 'deleted', 'dropping', 'watermelon', 'bronx', 'backpage', 'whenever', 'tim', 'pete', 'shade', 'rivers', 'slaves', 'fml', 'lingerie', 'decent', 'earlier', 'beyonce', 'eaten', 'yeen', 'golden', 'society', 'ginasanabria', 'jen', 'hmm', 'honor', 'cancel', 'leprechaun', 'cheesecake', 'material', 'mentally', 'farewellcaptain', 'effect', 'aianhangover', 'buck', 'popcorn', 'mate', 'sniff', 'azz', 'te', 'wh', 'motherfucker', 'girlthatsvonte', 'flex', 'hovaa', 'thugs', 'wendydavistexas', 'los', 'boat', 'dancing', 'refuse', 'woods', 'unfollowing', 'incredible', 'shave', 'compete', 'terrible', 'yelled', 'signed', 'ish', 'emotions', 'commercial', 'enjoying', 'yuh', 'dealing', 'flawless', 'ck', 'fuccing', 'opened', 'filth', 'prison', 'verse', 'passing', 'arizona', 'nature', 'dez', 'iz', 'smoked', 'foxnews', 'nt', 'runs', 'jusdahl', 'cried', 'atlanta', 'romo', 'ahead', 'kisses', 'gi', 'signs', 'warning', 'spring', 'serving', 'fighters', 'waynostra', 'naturally', 'ketchup', 'justice', 'mariners', 'stevstiffler', 'pound', 'mirror', 'lo', 'bones', 'mcdonalds', 'spirit', 'lauren', 'lilbthebasedgod', 'alabama', 'residinero', 'role', 'tweaking', 'guyjeff', 'tax', 'slay', 'hasn', 'flirting', 'supporters', 'strip', 'places', 'holla', 'bite', 'training', 'studio', 'jews', 'awkward', 'gain', 'kmichelle', 'campus', 'heissarcastic', 'mass', 'breadtruckkbri', 'bcarter', 'thedouch', 'insane', 'plot', 'tide', 'falling', 'hussle', 'kaeejones', 'bills', 'payback', 'turntup', 'decide', 'garrett', 'washed', 'matching', 'retweets', 'curved', 'click', 'cheeks', 'cocky', 'cruz', 'quality', 'brosconfessions', 'speech', 'express', 'center', 'rns', 'chipotle', 'zitlalyl', 'counts', 'hardly', 'chuck', 'winker', 'bubble', 'project', 'wearin', 'company', 'sittin', 'boon', 'keys', 'decision', 'clips', 'willing', 'answers', 'ann', 'fame', 'reathie', 'dishes', 'eggplant', 'nvm', 'faith', 'expensive', 'poonsoaker', 'matters', 'stayed', 'chips', 'dave', 'pisses', 'catches', 'heydenbunsyolo', 'wid', 'thoughtsofrandy', 'notice', 'whoop', 'ortiz', 'cowboy', 'moron', 'guala', 'hawk', 'michigan', 'louis', 'kayysavage', 'gbe', 'welfare', 'program', 'di', 'morgan', 'libra', 'cocaine', 'tops', 'weezy', 'juanndacut', 'arguments', 'comfortable', 'schedule', 'ud', 'whites', 'anthony', 'leanandcuisine', 'tweetin', 'robin', 'bosh', 'kashhh', 'goodbye', 'iggyazalea', 'videos', 'lilmenifee', 'toys', 'piersmorgan', 'growing', 'remix', 'pose', 'demand', 'treating', 'dusty', 'recently', 'worthless', 'upper', 'position', 'nugget', 'pitiful', 'toilet', 'website', 'rell', 'omm', 'champion', 'elephant', 'shiznitt', 'conservative', 'bake', 'philly', 'perry', 'equal', 'opportunity', 'edgarguillenjr', 'meaning', 'kike', 'loaded', 'troyal', 'crossed', 'otherwise', 'rodriguez', 'chu', 'lifeof', 'ravens', 'loaf', 'kings', 'icy', 'drew', 'dej', 'bieber', 'kaycimalynn', 'younger', 'insult', 'fabbymichelle', 'keeping', 'jeff', 'completely', 'tr', 'trashes', 'doll', 'jaimescudi', 'sand', 'medical', 'danny', 'jsmart', 'study', 'links', 'dems', 'soup', 'savages', 'itscoleharmon', 'review', 'thedarius', 'worldstarfunny', 'floyd', 'iemonaids', 'leavin', 'thekaosyatti', 'laying', 'sounding', 'parking', 'wu', 'jenna', 'stretch', 'dildo', 'earn', 'mayne', 'whips', 'humble', 'psycho', 'original', 'lawd', 'proven', 'animals', 'jc', 'ounce', 'tk', 'sour', 'southsidevic', 'abortion', 'manziel', 'rejectedpeanutsspecials', 'shocked', 'truck', 'quite', 'bully', 'hire', 'morons', 'saints', 'nathanndevlin', 'awe', 'insurance', 'defending', 'silver', 'southern', 'cell', 'jon', 'remembers', 'bjayblast', 'realist', 'benghazi', 'wright', 'motherfuckers', 'thottie', 'cinnamon', 'mc', 'lyin', 'kkk', 'feature', 'rhythmixx', 'survive', 'stranger', 'ahh', 'elementary', 'priceless', 'cure', 'jane', 'awful', 'agreed', 'sideline', 'lovee', 'boutta', 'ending', 'dink', 'judging', 'wood', 'slam', 'fabianmleal', 'witcha', 'shylock', 'ae', 'driver', 'longbongchris', 'severely', 'operation', 'yay', 'ight', 'ballin', 'sonofyahweh', 'empty', 'boston', 'spoil', 'ge', 'pressure', 'sucka', 'roses', 'mexico', 'caring', 'coolie', 'stanleys', 'quotes', 'influence', 'jiggaboo', 'blows', 'pooh', 'forward', 'papa', 'rams', 'hoser', 'democratic', 'strange', 'daniels', 'tommy', 'angelo', 'marijuana', 'belongs', 'viri', 'perfectly', 'facing', 'breh', 'stepping', 'boats', 'stars', 'eyelashes', 'station', 'sip', 'royal', 'ridin', 'dice', 'ohio', 'taller', 'subtweeting', 'hurting', 'jackie', 'meanwhile', 'phase', 'preach', 'wipe', 'became', 'slim', 'innocent', 'kitten', 'bg', 'chubby', 'wan', 'university', 'kirk', 'whores', 'exit', 'reported', 'motherfucking', 'fellow', 'traded', 'meal', 'bey', 'waka', 'bulls', 'sue', 'gossipcop', 'ido', 'marlin', 'fishyass', 'clothing', 'freedom', 'insta', 'drove', 'glo', 'genius', 'bitchy', 'mid', 'yost', 'guessed', 'cheefpolo', 'ke', 'beatin', 'sweating', 'garden', 'weeknd', 'kb', 'rts', 'plate', 'coast', 'chrisbrown', 'mee', 'turnup', 'mansion', 'smco', 'steven', 'science', 'aside', 'benz', 'liveanduncut', 'bottles', 'large', 'wbeezy', 'hero', 'voor', 'resist', 'seansteiger', 'clark', 'mouse', 'traffic', 'shutup', 'queens', 'cooler', 'humor', 'uber', 'vivaalakatyy', 'steelers', 'op', 'silence', 'pumpkin', 'soldier', 'deck', 'helped', 'troll', 'appear', 'further', 'root', 'superman', 'frozen', 'homegirl', 'uberfacts', 'stood', 'melo', 'hypocrisy', 'whattheflocka', 'zoo', 'flexin', 'artist', 'losangeles', 'carelessone', 'saucygyro', 'bloody', 'stevestockmantx', 'gmb', 'figured', 'mia', 'sexilexi', 'patience', 'recent', 'heilsidious', 'wi', 'karate', 'cont', 'bathroom', 'taliban', 'deny', 'bam', 'twerkin', 'cj', 'ghettos', 'peep', 'banana', 'association', 'resting', 'gays', 'boxing', 'kfromtheg', 'essay', 'reach', 'divamonroe', 'betha', 'maxin', 'nomo', 'bri', 'denytheprophecy', 'uhoe', 'whose', 'merry', 'ruined', 'county', 'networks', 'throws', 'cross', 'waddup', 'christian', 'tats', 'wasted', 'trippy', 'sucker', 'gorilla', 'farm', 'dies', 'westsideflee', 'hurricane', 'anxiety', 'seats', 'fought', 'hillary', 'davethebrave', 'fart', 'ofay', 'titan', 'smiles', 'moose', 'fishing', 'proved', 'exes', 'smdh', 'sweater', 'fucktravonn', 'messing', 'jorge', 'comeback', 'hall', 'traitor', 'coloreds', 'saiyan', 'alpha', 'butts', 'jimnorton', 'dish', 'gs', 'thrown', 'drummerkid', 'va', 'ashton', 'intentions', 'eq', 'spoiled', 'alike', 'imo', 'peckerwood', 'blakkhoodie', 'pride', 'beers', 'coat', 'niet', 'crybaby', 'sends', 'ballout', 'curry', 'randomly', 'balling', 'ro', 'moet', 'lolol', 'knowledge', 'thighs', 'rims', 'aware', 'reckless', 'ari', 'lololol', 'roach', 'hank', 'mail', 'mikey', 'bullets', 'mississippi', 'holds', 'fired', 'femshaveballz', 'redskin', 'wage', 'jap', 'overrated', 'clap', 'potatoes', 'imaginary', 'foreal', 'dot', 'aww', 'frontin', 'wishy', 'darth', 'link', 'darealquitam', 'available', 'cruise', 'hart', 'designer', 'health', 'bandwagon', 'td', 'ti', 'powers', 'ctfuu', 'keef', 'jewjitsugrl', 'yokel', 'francoiskilljoy', 'slayed', 'bumpin', 'slave', 'lux', 'fwm', 'vines', 'laughed', 'fro', 'destroying', 'adolfhibsta', 'bm', 'artists', 'barbod', 'several', 'derekisnormal', 'sore', 'briscoefunnyguy', 'gurl', 'jj', 'roasted', 'held', 'fcb', 'whether', 'gingerdemoness', 'elite', 'yoga', 'sneaky', 'reasons', 'casket', 'jzolly', 'fukin', 'sike', 'rem', 'daniel', 'von', 'gotone', 'according', 'spy', 'feminist', 'ryann', 'bloggerboxing', 'drtruth', 'dalton', 'personal', 'fredosantana', 'columbus', 'lla', 'faded', 'thincc', 'mills', 'nickiminaj', 'ily', 'binko', 'thatslutadrian', 'yell', 'satan', 'moe', 'cblaze', 'multiple', 'drawing', 'ashley', 'jayreidofficial', 'ehh', 'below', 'wetbacks', 'que', 'kwest', 'drops', 'vh', 'wut', 'marco', 'itself', 'ogbeard', 'ampowerblog', 'shoved', 'tuna', 'threats', 'inconsiderate', 'aux', 'washy', 'restaurant', 'motherfuckin', 'greedy', 'umm', 'eli', 'bossman', 'string', 'wussup', 'vision', 'chad', 'cod', 'ruin', 'diego', 'bananas', 'lbs', 'snake', 'shades', 'bruno', 'thatangrynigga', 'lottery', 'attacks', 'honkie', 'ebt', 'types', 'dun', 'lipe', 'mustache', 'moral', 'rivera', 'scratch', 'avoid', 'winner', 'arrest', 'katy', 'ban', 'barbie', 'twin', 'rocks', 'letter', 'mm', 'zooyorkinit', 'uhhh', 'attend', 'ability', 'playoff', 'valentine', 'punched', 'mayweather', 'discover', 'pow', 'rebel', 'thelittlefella', 'famu', 'raider', 'brianlovesass', 'whitecholo', 'urge', 'biden', 'iv', 'drown', 'finae', 'dragonflyjonez', 'defeat', 'ignorance', 'spitting', 'harlem', 'offer', 'lingo', 'activities', 'jenny', 'conference', 'punching', 'dumpster', 'damage', 'discovered', 'mum', 'dutch', 'gap', 'surfboard', 'fil', 'weare', 'closet', 'feds', 'alarm', 'flick', 'swing', 'havent', 'losbeonit', 'closer', 'handsome', 'anytime', 'october', 'apples', 'trending', 'pls', 'bait', 'glory', 'grandpa', 'gtf', 'river', 'mommy', 'urban', 'curse', 'waynel', 'fade', 'jackson', 'jets', 'ronnie', 'rihannahasaids', 'maxwell', 'checks', 'models', 'sweep', 'fist', 'poo', 'obvious', 'mick', 'added', 'donate', 'lab', 'balboa', 'touchdown', 'carrying', 'talkn', 'hardcore', 'lml', 'wing', 'hippo', 'moan', 'google', 'laughin', 'conservatives', 'krislisisms', 'htgawm', 'ahaha', 'dreaming', 'amen', 'joint', 'parent', 'nn', 'education', 'sleepinggiant', 'shinsnipes', 'yer', 'aliens', 'amanda', 'moved', 'killa', 'oy', 'mentality', 'cherry', 'mlk', 'guarantee', 'rise', 'cost', 'breast', 'russian', 'spider', 'rat', 'yardie', 'photos', 'morgansmith', 'pc', 'ainn', 'cryin', 'stressin', 'askin', 'swerve', 'former', 'mw', 'ariana', 'active', 'snoop', 'image', 'nicole', 'wonderful', 'knoww', 'trippen', 'valentines', 'ahhh', 'dolla', 'nicer', 'txt', 'chucker', 'foe', 'depressed', 'ast', 'lack', 'sterling', 'sarcastic', 'forehead', 'neighbors', 'franklin', 'tyson', 'sport', 'trigger', 'paradox', 'flye', 'cubs', 'manners', 'viva', 'shitpussiessay', 'ignoring', 'harley', 'madison', 'latest', 'cigarette', 'sticks', 'antonio', 'theory', 'racial', 'pats', 'forgetting', 'teapot', 'seth', 'cleaning', 'jerk', 'tags', 'rolled', 'vegetables', 'repeat', 'kicking', 'shape', 'tryhardsilva', 'hy', 'wishes', 'burning', 'hunting', 'cooked', 'lover', 'puss', 'flowers', 'delaney', 'crown', 'basedamerican', 'bean', 'dislike', 'mydickiscalled', 'pushing', 'rico', 'rider', 'textin', 'rounds', 'laceeybugg', 'accidentally', 'blessjesus', 'nikowavy', 'reg', 'holder', 'compared', 'joytooawesome', 'nooo', 'hill', 'macklemore', 'mexicans', 'rings', 'backs', 'miilkkk', 'degenerateartist', 'cups', 'immediately', 'turd', 'congratulations', 'charles', 'picking', 'disease', 'scientists', 'dnumberbefore', 'classes', 'jwill', 'nae', 'threat', 'xci', 'wth', 'hc', 'hrs', 'epic', 'pimpin', 'smooth', 'laa', 'joeylattime', 'horses', 'jundishes', 'condoms', 'bb', 'noise', 'julia', 'songz', 'nc', 'ripvuhsace', 'yolo', 'struggles', 'tuesday', 'anthem', 'elevator', 'migos', 'suit', 'wordtothewise', 'howard', 'allen', 'pinto', 'damned', 'heels', 'iammrechols', 'gear', 'site', 'network', 'awake', 'eevee', 'apologize', 'legacy', 'market', 'minded', 'hornyfacts', 'hips', 'cigarettes', 'kissed', 'moor', 'praise', 'actions', 'hoskinsty', 'expose', 'mustard', 'kingcuh', 'kenny', 'lmaooooooo', 'holes', 'tanaka', 'relevant', 'kevinthegee', 'lion', 'mile', 'guard', 'nbc', 'evolved', 'heated', 'touched', 'space', 'commie', 'lifeasking', 'abc', 'sees', 'culture', 'esteem', 'alotta', 'demon', 'extreme', 'notch', 'waffle', 'created', 'dramatic', 'smacking', 'bacc', 'range', 'circles', 'propaganda', 'chaplin', 'champagne', 'moneydriven', 'interested', 'gta', 'trend', 'arigold', 'trolling', 'kyle', 'however', 'possessed', 'concerned', 'rub', 'ruth', 'treslyon', 'hers', 'socass', 'brazilian', 'lostb', 'ncaa', 'coconut', 'camel', 'seattle', 'percent', 'sang', 'breathe', 'willyroast', 'cheer', 'dreads', 'sings', 'fixed', 'jergucci', 'nude', 'tips', 'ag', 'paybacks', 'favor', 'keyshawnswag', 'thts', 'mvp', 'fits', 'emabiggestfans', 'busboysandpoets', 'critical', 'redbone', 'thousands', 'cardinals', 'cody', 'kd', 'msoltan', 'humbltonbanks', 'rocky', 'relate', 'mil', 'blocking', 'bend', 'joints', 'khaki', 'smelly', 'exotic', 'mega', 'flavored', 'whitdawgem', 'studying', 'greg', 'verbally', 'split', 'inning', 'lito', 'abrupt', 'rules', 'drivers', 'nomore', 'canadian', 'alicia', 'eggs', 'weet', 'fights', 'unattractive', 'accent', 'almighty', 'groupie', 'jigga', 'jury', 'wb', 'itsdesha', 'ee', 'freemolly', 'bryan', 'nowomanisright', 'zoe', 'commit', 'crusty', 'poochda', 'offense', 'coolest', 'disgust', 'justinbieber', 'flirt', 'degrees', 'lolz', 'boot', 'familiar', 'gatorade', 'sheswantsthed', 'alu', 'fckn', 'sexualtruth', 'michellemalkin', 'divorced', 'seniors', 'corinthians', 'fucktyler', 'theyre', 'denial', 'award', 'jetsandaswisher', 'salt', 'tampa', 'tests', 'compliment', 'reward', 'nino', 'als', 'hobbies', 'include', 'huhwhatsacondom', 'budah', 'roast', 'helicopter', 'alan', 'perarl', 'pilot', 'losers', 'lou', 'elissa', 'wats', 'screamed', 'gaga', 'karlos', 'itsdorry', 'rnadjorell', 'wreck', 'spoke', 'rant', 'shittin', 'humans', 'ink', 'whattheffacts', 'jerry', 'comedy', 'glitteredinpink', 'fin', 'themayormatt', 'irri', 'cuauhtli', 'pooted', 'cay', 'recognize', 'cleaned', 'bugs', 'hospital', 'ironsheik', 'bucketsmcnasty', 'caroline', 'anonymous', 'maar', 'iffy', 'officer', 'lmfaooooooo', 'fucced', 'yaboylilb', 'breitbartnews', 'practice', 'popz', 'cthagod', 'twitchyteam', 'puff', 'charlierose', 'yesss', 'ideology', 'robbing', 'shawn', 'cramps', 'daijahshardaee', 'wallah', 'nem', 'pineapples', 'almightyvinny', 'cm', 'casillas', 'mermaid', 'channymaraj', 'ab', 'backwards', 'stinks', 'amendment', 'homecoming', 'boa', 'dime', 'laff', 'showin', 'lex', 'reminds', 'yas', 'abu', 'morals', 'spurs', 'africa', 'cha', 'scrappy', 'merica', 'funeral', 'butthurt', 'button', 'clingy', 'cooking', 'sounded', 'vocativ', 'pat', 'clues', 'indeed', 'turner', 'std', 'pp', 'inbox', 'stories', 'edges', 'ford', 'stripping', 'markus', 'staycoolwheels', 'tumblr', 'bidenshairplugs', 'kalikushdoll', 'busting', 'guts', 'protest', 'atblackface', 'alsina', 'fakingg', 'tolife', 'drafts', 'stock', 'angels', 'stressful', 'jeezy', 'gurujeremy', 'fizz', 'genuinely', 'qaeda', 'muzzies', 'renz', 'delivering', 'zp', 'ninja', 'mission', 'creatures', 'ads', 'subject', 'salon', 'happiness', 'yellows', 'ops', 'justdoitslow', 'awards', 'form', 'jaw', 'mileycyrus', 'lap', 'posts', 'anger', 'sm', 'fold', 'afterwards', 'nonsense', 'members', 'basedpaco', 'cargos', 'voted', 'ko', 'secrets', 'budahefner', 'cdfu', 'playa', 'weapons', 'foley', 'males', 'hangin', 'squak', 'larsen', 'scrolling', 'denna', 'climate', 'leslieeeixta', 'gemini', 'continues', 'barber', 'heavy', 'unemployed', 'meek', 'trifling', 'soulja', 'bruhhh', 'cracked', 'undercover', 'rug', 'blanket', 'pancake', 'maria', 'disrupts', 'diving', 'wheel', 'waymoflydenu', 'pepsi', 'fails', 'meeting', 'blackman', 'boner', 'gassing', 'mitchellll', 'pearl', 'inbred', 'oregon', 'itsfoodporn', 'success', 'pirates', 'smd', 'freddiegibbs', 'igiveemnathan', 'wantin', 'logo', 'gut', 'teixeira', 'trusting', 'messages', 'ie', 'perez', 'tyrese', 'bash', 'ldebbie', 'nosey', 'tap', 'missouri', 'banking', 'load', 'lesson', 'dryer', 'fitness', 'tigers', 'yess', 'voting', 'spongebob', 'doctors', 'nerds', 'ze', 'zt', 'nikes', 'eve', 'contract', 'kg', 'injury', 'roommate', 'che', 'grinding', 'elect', 'nuh', 'barrel', 'voices', 'babes', 'timbs', 'armed', 'fest', 'tay', 'zip', 'erikaj', 'highest', 'joel', 'interest', 'itsnotadam', 'speed', 'jacob', 'cartoon', 'icbc', 'snatch', 'ont', 'veronicagk', 'winston', 'manly', 'cd', 'qc', 'nikko', 'immature', 'tied', 'whatupag', 'ken', 'lp', 'ii', 'thunder', 'wolf', 'seven', 'bombs', 'tease', 'kingjames', 'teens', 'bk', 'whatchu', 'brings', 'pole', 'wes', 'destiny', 'screams', 'reds', 'ladyvodkax', 'spaghetti', 'manager', 'vonteeeeee', 'jameis', 'smiley', 'rapping', 'precious', 'mute', 'vile', 'memphis', 'bracefacee', 'knicks', 'killquana', 'unique', 'surgery', 'mornin', 'strike', 'begin', 'toy', 'wojtata', 'spicy', 'customer', 'jada', 'sob', 'security', 'mikeb', 'truenovacane', 'wo', 'closeup', 'unicorncowboy', 'koredeb', 'rubbing', 'april', 'ebony', 'toss', 'brains', 'stiff', 'monster', 'dayum', 'mediacrooks', 'pity', 'downtown', 'audience', 'olympics', 'scaring', 'mma', 'ccass', 'biggie', 'lastnight', 'unions', 'fisting', 'bay', 'berg', 'westside', 'crayons', 'stribpol', 'br', 'periods', 'yassss', 'skinned', 'channel', 'covering', 'barrybonds', 'customers', 'honda', 'utcast', 'basement', 'brad', 'dmv', 'traveling', 'toppy', 'mentioned', 'spelling', 'passion', 'bbq', 'touching', 'landed', 'kingl', 'tiffnasty', 'swore', 'dammit', 'romney', 'washing', 'offend', 'dao', 'roberts', 'excuses', 'hmmm', 'jbilinovich', 'ilikecats', 'ideas', 'bootyacid', 'sizzurp', 'feminism', 'hunter', 'tm', 'hoodie', 'kfc', 'hoping', 'ordering', 'article', 'dylan', 'shallow', 'illiterate', 'mask', 'peta', 'banks', 'yourdudeferg', 'actor', 'shititslaura', 'fathers', 'allah', 'yeiiowbang', 'options', 'tru', 'bold', 'reports', 'ttyn', 'dig', 'kkz', 'jmuggaaa', 'kincannon', 'trevaughnlg', 'twisted', 'shaking', 'function', 'ijs', 'lib', 'jrise', 'nearly', 'distance', 'dorsey', 'core', 'feathers', 'proper', 'hundred', 'curl', 'driven', 'sb', 'urself', 'pancakes', 'deported', 'hearted', 'pennythegoat', 'ct', 'nowplaying', 'banned', 'threaten', 'prefer', 'whos', 'wa', 'emma', 'genuine', 'darkie', 'vick', 'sramirez', 'strength', 'lower', 'earned', 'hunt', 'gz', 'equality', 'taxes', 'dean', 'nl', 'progress', 'golf', 'stockboy', 'nhl', 'billion', 'aim', 'sec', 'wiggers', 'noooo', 'pissing', 'careful', 'limit', 'soda', 'madden', 'capotoheaven', 'moma', 'messi', 'hustle', 'bin', 'payne', 'spiffy', 'blaxican', 'razor', 'nra', 'checking', 'replied', 'redsox', 'rome', 'tedcruz', 'pacers', 'prophzilla', 'march', 'december', 'somehow', 'thin', 'hispanic', 'nawl', 'mocked', 'desk', 'fill', 'kerry', 'witness', 'andy', 'bricks', 'realskipbayless', 'dea', 'schulzgrayson', 'tiger', 'injuns', 'memories', 'lifes', 'metal', 'present', 'considered', 'champ', 'screamin', 'nigguhs', 'therealjb', 'apologizing', 'spice', 'horror', 'arrows', 'ff', 'release', 'thejournalist', 'elected', 'citizens', 'septic', 'proving', 'impossible', 'cheesy', 'per', 'stupidity', 'senate', 'max', 'laundry', 'gaza', 'eachother', 'metroadlib', 'bastard', 'vinyl', 'theseanyv', 'smarter', 'grandmas', 'griffin', 'decisions', 'ez', 'planes', 'rolling', 'trees', 'cakes', 'useless', 'england', 'standard', 'dust', 'download', 'patty', 'nu', 'tre', 'ups', 'lads', 'handed', 'tw', 'flipped', 'vertybstard', 'champions', 'bizzle', 'drafted', 'wacko', 'toms', 'bastards', 'wishing', 'grabs', 'tayscalf', 'liars', 'enter', 'bragging', 'fallin', 'soooooo', 'causing', 'garza', 'bucks', 'broadcast', 'hv', 'expecting', 'coldhearted', 'justmilz', 'shove', 'chanel', 'riri', 'nomeek', 'clowney', 'leopard', 'jewish', 'latino', 'lana', 'industry', 'singer', 'olivia', 'jamaica', 'rey', 'embarrassing', 'ak', 'discordianslip', 'rag', 'roaches', 'wagggggie', 'grease', 'abstractlife', 'rb', 'thumb', 'leash', 'naa', 'pal', 'bffl', 'vets', 'supporting', 'expected', 'stoned', 'inlove', 'ky', 'choosing', 'samzbikowski', 'plain', 'changes', 'schuder', 'attached', 'cr', 'fully', 'sho', 'nevermind', 'stressed', 'ooo', 'shark', 'knowin', 'committed', 'teaching', 'sat', 'grave', 'lu', 'fave', 'cheaper', 'european', 'eanahs', 'accurate', 'rough', 'drunksixthgrade', 'crooked', 'retweeting', 'evan', 'triggaplease', 'attempt', 'brendacoyt', 'sells', 'claims', 'results', 'paula', 'explains', 'knocking', 'welp', 'fever', 'vikkinosecrets', 'britney', 'djfeds', 'raping', 'ripped', 'vineforthebyrd', 'creep', 'wnba', 'graphic', 'papoose', 'create', 'keeper', 'location', 'pencil', 'millions', 'mccann', 'talker', 'poms', 'countries', 'lace', 'mutt', 'combo', 'jayy', 'sheets', 'barryclerjuste', 'lb', 'barack', 'het', 'iowahawkblog', 'represent', 'windows', 'lov', 'dino', 'hearts', 'emanuel', 'foam', 'greyyygoose', 'wigs', 'davegetnmoney', 'tracks', 'tatted', 'steezeyflow', 'bother', 'dizzybala', 'sandals', 'illest', 'givin', 'bullying', 'noodles', 'basedchasen', 'daughters', 'ook', 'thenna', 'sassy', 'dresses', 'brittany', 'sellin', 'sellout', 'desert', 'gtfoh', 'defend', 'leftover', 'alert', 'owner', 'pleasure', 'soplayer', 'sf', 'leather', 'robert', 'yaw', 'hotel', 'isell', 'harvard', 'fridge', 'screw', 'bada', 'basis', 'devils', 'nail', 'mart', 'blk', 'therefore', 'peeps', 'curb', 'sirhampton', 'karlamorenoo', 'snack', 'handicapped', 'rookie', 'ga', 'chickencoleman', 'answering', 'curls', 'toddie', 'rikki', 'fm', 'pokemon']\n"
          ]
        }
      ]
    },
    {
      "cell_type": "markdown",
      "source": [
        "### Question 7"
      ],
      "metadata": {
        "id": "hlOdwBGbUI5J"
      }
    },
    {
      "cell_type": "code",
      "source": [
        "print(model['guy']) # get the vector of the word 'guy'"
      ],
      "metadata": {
        "id": "OY-NN6bHUJEh",
        "colab": {
          "base_uri": "https://localhost:8080/"
        },
        "outputId": "99a26213-8f2b-47d7-8492-ddd59d77e0d9"
      },
      "execution_count": 26,
      "outputs": [
        {
          "output_type": "stream",
          "name": "stdout",
          "text": [
            "[ 3.3703824e-03  4.3903269e-02 -3.4703076e-02 -9.9609764e-03\n",
            "  5.0250039e-02  4.1995343e-02 -3.4936883e-02 -6.5112044e-03\n",
            "  6.2223069e-02  6.1684102e-02 -3.9118953e-02  3.3633668e-02\n",
            "  7.5473441e-03  2.7089003e-02 -3.9821219e-02 -3.4406725e-03\n",
            " -1.1901334e-02  7.3567205e-03  2.3933628e-03 -4.7844607e-02\n",
            "  7.9935160e-04  6.8490438e-02  4.0158965e-02 -1.6873037e-02\n",
            " -9.2896124e-05 -2.5723780e-02  3.5162613e-02 -2.5447959e-02\n",
            " -4.2506024e-02  4.1629177e-02 -2.7567688e-02  1.1498865e-03\n",
            " -3.3675984e-02 -3.2707334e-02 -7.8856125e-02 -3.3027441e-03\n",
            "  1.3883647e-02 -4.0587652e-02 -2.3469882e-02 -8.1027839e-03\n",
            " -9.3367248e-04  7.5077318e-02  1.9625464e-02  1.8724816e-02\n",
            "  3.8230278e-02 -9.2955790e-03  2.3734808e-02 -3.1857383e-02\n",
            " -2.9704809e-02  3.7635643e-02 -7.0228316e-02  2.6178515e-02\n",
            " -5.0400421e-02  3.6917452e-02 -3.5903707e-02 -5.1297572e-02\n",
            " -1.2404419e-02  2.4696223e-02  5.4116592e-02  2.6066661e-02\n",
            " -2.8540678e-02  4.4114240e-02  7.1061321e-02  2.4808416e-02\n",
            " -3.2681838e-02 -8.1683770e-03 -3.2763187e-02  3.2674626e-02\n",
            "  7.6575503e-03  3.0111644e-02 -4.8334502e-02  2.0057961e-02\n",
            "  2.8637541e-03 -2.5927912e-02 -2.7691070e-02  5.8041587e-03\n",
            "  8.6909138e-02  3.4798112e-02  3.1010378e-02 -2.4191404e-02\n",
            "  3.9666792e-04  1.9953156e-02  6.7442276e-02 -2.0723080e-02\n",
            "  3.0394578e-02 -2.2142328e-02  1.5970370e-02  5.1226679e-02\n",
            " -4.7155455e-02 -4.6359248e-02  7.4079737e-02  7.5931638e-03\n",
            "  7.4955508e-02 -5.5815179e-02 -2.5314562e-02 -9.7508952e-02\n",
            " -5.5026338e-03  5.8723271e-02 -2.3275115e-02 -4.0423933e-02]\n"
          ]
        }
      ]
    }
  ]
}